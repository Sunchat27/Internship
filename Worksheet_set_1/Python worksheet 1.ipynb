{
 "cells": [
  {
   "cell_type": "markdown",
   "id": "47adfad8",
   "metadata": {},
   "source": [
    "# To find Factorial of number"
   ]
  },
  {
   "cell_type": "code",
   "execution_count": 11,
   "id": "cc449d46",
   "metadata": {},
   "outputs": [
    {
     "name": "stdout",
     "output_type": "stream",
     "text": [
      "Enter a number: 18\n",
      "1 2 3 6 9 18 "
     ]
    }
   ],
   "source": [
    "n = int(input('Enter a number: ')) \n",
    "for i in range(1,n+1): \n",
    "        if not n%i: \n",
    "            print(i,end=' ') "
   ]
  },
  {
   "cell_type": "markdown",
   "id": "827a8754",
   "metadata": {},
   "source": [
    "# To check the number is prime or not"
   ]
  },
  {
   "cell_type": "code",
   "execution_count": 13,
   "id": "0ee262f9",
   "metadata": {},
   "outputs": [
    {
     "name": "stdout",
     "output_type": "stream",
     "text": [
      "Enter the number: 19\n",
      "19 is a prime number\n"
     ]
    }
   ],
   "source": [
    "number = int(input(\"Enter the number: \"))\n",
    "if number > 1:\n",
    "    for i in range(2,number):\n",
    "        if(number % i)==0:\n",
    "            print(number,\"is not a prime number\")\n",
    "    else:\n",
    "         print(number,\"is a prime number\")\n",
    "#if number is equal to 1 or less then 1\n",
    "#then it is not a prime number\n",
    "else:\n",
    "    print(number,\"is not a prime number\")\n",
    "    "
   ]
  },
  {
   "cell_type": "markdown",
   "id": "fbc3cda9",
   "metadata": {},
   "source": [
    "# To check whether a given string is palindrome or not."
   ]
  },
  {
   "cell_type": "code",
   "execution_count": 7,
   "id": "5b7421eb",
   "metadata": {},
   "outputs": [
    {
     "name": "stdout",
     "output_type": "stream",
     "text": [
      "It is a Palindrome\n"
     ]
    }
   ],
   "source": [
    "s = \"naman\"\n",
    "if s == s[::-1]:\n",
    "    print(\"It is a Palindrome\")\n",
    "else:\n",
    "    print(\"It is not a Palindrome\")"
   ]
  },
  {
   "cell_type": "markdown",
   "id": "803ab2f8",
   "metadata": {},
   "source": [
    "# The third side of right-angled triangle from two given sides."
   ]
  },
  {
   "cell_type": "code",
   "execution_count": 9,
   "id": "b74046d6",
   "metadata": {},
   "outputs": [
    {
     "name": "stdout",
     "output_type": "stream",
     "text": [
      "Enter base: 4\n",
      "Enter height: 5\n",
      "Hypotenuse = 6.4031242374328485\n"
     ]
    }
   ],
   "source": [
    "import math\n",
    "\n",
    "b = float(input(\"Enter base: \"))\n",
    "p = float(input(\"Enter height: \"))\n",
    "\n",
    "h = math.sqrt(b ** 2 + p ** 2)\n",
    "\n",
    "print(\"Hypotenuse =\", h)"
   ]
  },
  {
   "cell_type": "markdown",
   "id": "6df1c1c1",
   "metadata": {},
   "source": [
    "# The frequency of each of the characters present in a given string."
   ]
  },
  {
   "cell_type": "code",
   "execution_count": 11,
   "id": "00e1027e",
   "metadata": {},
   "outputs": [
    {
     "name": "stdout",
     "output_type": "stream",
     "text": [
      "Given String:  timeofeffort\n",
      "Frequency of each character :\n",
      "  {'t': 2, 'i': 1, 'm': 1, 'e': 2, 'o': 2, 'f': 3, 'r': 1}\n"
     ]
    }
   ],
   "source": [
    "from collections import Counter\n",
    "\n",
    "# Given string\n",
    "strA = \"timeofeffort\"\n",
    "print(\"Given String: \",strA)\n",
    "# Using counter\n",
    "res = {}\n",
    "\n",
    "for keys in strA:\n",
    "    res[keys] = res.get(keys, 0) + 1\n",
    "    \n",
    "# Result\n",
    "print(\"Frequency of each character :\\n \",res)"
   ]
  },
  {
   "cell_type": "code",
   "execution_count": null,
   "id": "41415840",
   "metadata": {},
   "outputs": [],
   "source": []
  },
  {
   "cell_type": "code",
   "execution_count": null,
   "id": "71f59a23",
   "metadata": {},
   "outputs": [],
   "source": []
  },
  {
   "cell_type": "code",
   "execution_count": null,
   "id": "9801a088",
   "metadata": {},
   "outputs": [],
   "source": []
  },
  {
   "cell_type": "code",
   "execution_count": null,
   "id": "bebda9e9",
   "metadata": {},
   "outputs": [],
   "source": []
  },
  {
   "cell_type": "code",
   "execution_count": null,
   "id": "09bb8a54",
   "metadata": {},
   "outputs": [],
   "source": []
  },
  {
   "cell_type": "code",
   "execution_count": null,
   "id": "9daa00af",
   "metadata": {},
   "outputs": [],
   "source": []
  }
 ],
 "metadata": {
  "kernelspec": {
   "display_name": "Python 3",
   "language": "python",
   "name": "python3"
  },
  "language_info": {
   "codemirror_mode": {
    "name": "ipython",
    "version": 3
   },
   "file_extension": ".py",
   "mimetype": "text/x-python",
   "name": "python",
   "nbconvert_exporter": "python",
   "pygments_lexer": "ipython3",
   "version": "3.8.8"
  }
 },
 "nbformat": 4,
 "nbformat_minor": 5
}
